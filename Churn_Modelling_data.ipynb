{
 "cells": [
  {
   "cell_type": "markdown",
   "metadata": {},
   "source": [
    "![alt text](data:image/svg+xml;base64,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 \"OY Analytica\")\n",
    "\n",
    "# OY Analytica - An Open AI Community \n",
    "[github.com/oyanalytica](https://github.com/oyanalytica) \n",
    "<a href='https://twitter.com/oyanalytica'> <img alt=\"\" src=\"data:image/svg+xml;base64,PD94bWwgdmVyc2lvbj0iMS4wIiBlbmNvZGluZz0idXRmLTgiPz4KPCEtLSBHZW5lcmF0b3I6IEFkb2JlIElsbHVzdHJhdG9yIDI0LjIuMCwgU1ZHIEV4cG9ydCBQbHVnLUluIC4gU1ZHIFZlcnNpb246IDYuMDAgQnVpbGQgMCkgIC0tPgo8c3ZnIHZlcnNpb249IjEuMSIgaWQ9IkxvZ28iIHhtbG5zPSJodHRwOi8vd3d3LnczLm9yZy8yMDAwL3N2ZyIgeG1sbnM6eGxpbms9Imh0dHA6Ly93d3cudzMub3JnLzE5OTkveGxpbmsiIHg9IjBweCIgeT0iMHB4IgoJIHZpZXdCb3g9IjAgMCAyNDggMjA0IiBzdHlsZT0iZW5hYmxlLWJhY2tncm91bmQ6bmV3IDAgMCAyNDggMjA0OyIgeG1sOnNwYWNlPSJwcmVzZXJ2ZSI+CjxnIGlkPSJMb2dvXzFfIj4KCTxwYXRoIGlkPSJ3aGl0ZV9iYWNrZ3JvdW5kIiBkPSJNMjIxLjk1LDUxLjI5YzAuMTUsMi4xNywwLjE1LDQuMzQsMC4xNSw2LjUzYzAsNjYuNzMtNTAuOCwxNDMuNjktMTQzLjY5LDE0My42OXYtMC4wNAoJCUM1MC45NywyMDEuNTEsMjQuMSwxOTMuNjUsMSwxNzguODNjMy45OSwwLjQ4LDgsMC43MiwxMi4wMiwwLjczYzIyLjc0LDAuMDIsNDQuODMtNy42MSw2Mi43Mi0yMS42NgoJCWMtMjEuNjEtMC40MS00MC41Ni0xNC41LTQ3LjE4LTM1LjA3YzcuNTcsMS40NiwxNS4zNywxLjE2LDIyLjgtMC44N0MyNy44LDExNy4yLDEwLjg1LDk2LjUsMTAuODUsNzIuNDZjMC0wLjIyLDAtMC40MywwLTAuNjQKCQljNy4wMiwzLjkxLDE0Ljg4LDYuMDgsMjIuOTIsNi4zMkMxMS41OCw2My4zMSw0Ljc0LDMzLjc5LDE4LjE0LDEwLjcxYzI1LjY0LDMxLjU1LDYzLjQ3LDUwLjczLDEwNC4wOCw1Mi43NgoJCWMtNC4wNy0xNy41NCwxLjQ5LTM1LjkyLDE0LjYxLTQ4LjI1YzIwLjM0LTE5LjEyLDUyLjMzLTE4LjE0LDcxLjQ1LDIuMTljMTEuMzEtMi4yMywyMi4xNS02LjM4LDMyLjA3LTEyLjI2CgkJYy0zLjc3LDExLjY5LTExLjY2LDIxLjYyLTIyLjIsMjcuOTNjMTAuMDEtMS4xOCwxOS43OS0zLjg2LDI5LTcuOTVDMjQwLjM3LDM1LjI5LDIzMS44Myw0NC4xNCwyMjEuOTUsNTEuMjl6Ii8+CjwvZz4KPC9zdmc+Cg==\" width=\"30px\"/></a>"
   ]
  },
  {
   "cell_type": "code",
   "execution_count": 89,
   "metadata": {},
   "outputs": [],
   "source": [
    "import pandas as pd"
   ]
  },
  {
   "cell_type": "code",
   "execution_count": 90,
   "metadata": {},
   "outputs": [
    {
     "data": {
      "text/html": [
       "<div>\n",
       "<style scoped>\n",
       "    .dataframe tbody tr th:only-of-type {\n",
       "        vertical-align: middle;\n",
       "    }\n",
       "\n",
       "    .dataframe tbody tr th {\n",
       "        vertical-align: top;\n",
       "    }\n",
       "\n",
       "    .dataframe thead th {\n",
       "        text-align: right;\n",
       "    }\n",
       "</style>\n",
       "<table border=\"1\" class=\"dataframe\">\n",
       "  <thead>\n",
       "    <tr style=\"text-align: right;\">\n",
       "      <th></th>\n",
       "      <th>RowNumber</th>\n",
       "      <th>CustomerId</th>\n",
       "      <th>Surname</th>\n",
       "      <th>CreditScore</th>\n",
       "      <th>Geography</th>\n",
       "      <th>Gender</th>\n",
       "      <th>Age</th>\n",
       "      <th>Tenure</th>\n",
       "      <th>Balance</th>\n",
       "      <th>NumOfProducts</th>\n",
       "      <th>HasCrCard</th>\n",
       "      <th>IsActiveMember</th>\n",
       "      <th>EstimatedSalary</th>\n",
       "      <th>Exited</th>\n",
       "    </tr>\n",
       "  </thead>\n",
       "  <tbody>\n",
       "    <tr>\n",
       "      <th>0</th>\n",
       "      <td>1</td>\n",
       "      <td>15634602</td>\n",
       "      <td>Hargrave</td>\n",
       "      <td>619</td>\n",
       "      <td>France</td>\n",
       "      <td>Female</td>\n",
       "      <td>42</td>\n",
       "      <td>2</td>\n",
       "      <td>0.00</td>\n",
       "      <td>1</td>\n",
       "      <td>1</td>\n",
       "      <td>1</td>\n",
       "      <td>101348.88</td>\n",
       "      <td>1</td>\n",
       "    </tr>\n",
       "    <tr>\n",
       "      <th>1</th>\n",
       "      <td>2</td>\n",
       "      <td>15647311</td>\n",
       "      <td>Hill</td>\n",
       "      <td>608</td>\n",
       "      <td>Spain</td>\n",
       "      <td>Female</td>\n",
       "      <td>41</td>\n",
       "      <td>1</td>\n",
       "      <td>83807.86</td>\n",
       "      <td>1</td>\n",
       "      <td>0</td>\n",
       "      <td>1</td>\n",
       "      <td>112542.58</td>\n",
       "      <td>0</td>\n",
       "    </tr>\n",
       "    <tr>\n",
       "      <th>2</th>\n",
       "      <td>3</td>\n",
       "      <td>15619304</td>\n",
       "      <td>Onio</td>\n",
       "      <td>502</td>\n",
       "      <td>France</td>\n",
       "      <td>Female</td>\n",
       "      <td>42</td>\n",
       "      <td>8</td>\n",
       "      <td>159660.80</td>\n",
       "      <td>3</td>\n",
       "      <td>1</td>\n",
       "      <td>0</td>\n",
       "      <td>113931.57</td>\n",
       "      <td>1</td>\n",
       "    </tr>\n",
       "    <tr>\n",
       "      <th>3</th>\n",
       "      <td>4</td>\n",
       "      <td>15701354</td>\n",
       "      <td>Boni</td>\n",
       "      <td>699</td>\n",
       "      <td>France</td>\n",
       "      <td>Female</td>\n",
       "      <td>39</td>\n",
       "      <td>1</td>\n",
       "      <td>0.00</td>\n",
       "      <td>2</td>\n",
       "      <td>0</td>\n",
       "      <td>0</td>\n",
       "      <td>93826.63</td>\n",
       "      <td>0</td>\n",
       "    </tr>\n",
       "    <tr>\n",
       "      <th>4</th>\n",
       "      <td>5</td>\n",
       "      <td>15737888</td>\n",
       "      <td>Mitchell</td>\n",
       "      <td>850</td>\n",
       "      <td>Spain</td>\n",
       "      <td>Female</td>\n",
       "      <td>43</td>\n",
       "      <td>2</td>\n",
       "      <td>125510.82</td>\n",
       "      <td>1</td>\n",
       "      <td>1</td>\n",
       "      <td>1</td>\n",
       "      <td>79084.10</td>\n",
       "      <td>0</td>\n",
       "    </tr>\n",
       "    <tr>\n",
       "      <th>...</th>\n",
       "      <td>...</td>\n",
       "      <td>...</td>\n",
       "      <td>...</td>\n",
       "      <td>...</td>\n",
       "      <td>...</td>\n",
       "      <td>...</td>\n",
       "      <td>...</td>\n",
       "      <td>...</td>\n",
       "      <td>...</td>\n",
       "      <td>...</td>\n",
       "      <td>...</td>\n",
       "      <td>...</td>\n",
       "      <td>...</td>\n",
       "      <td>...</td>\n",
       "    </tr>\n",
       "    <tr>\n",
       "      <th>9995</th>\n",
       "      <td>9996</td>\n",
       "      <td>15606229</td>\n",
       "      <td>Obijiaku</td>\n",
       "      <td>771</td>\n",
       "      <td>France</td>\n",
       "      <td>Male</td>\n",
       "      <td>39</td>\n",
       "      <td>5</td>\n",
       "      <td>0.00</td>\n",
       "      <td>2</td>\n",
       "      <td>1</td>\n",
       "      <td>0</td>\n",
       "      <td>96270.64</td>\n",
       "      <td>0</td>\n",
       "    </tr>\n",
       "    <tr>\n",
       "      <th>9996</th>\n",
       "      <td>9997</td>\n",
       "      <td>15569892</td>\n",
       "      <td>Johnstone</td>\n",
       "      <td>516</td>\n",
       "      <td>France</td>\n",
       "      <td>Male</td>\n",
       "      <td>35</td>\n",
       "      <td>10</td>\n",
       "      <td>57369.61</td>\n",
       "      <td>1</td>\n",
       "      <td>1</td>\n",
       "      <td>1</td>\n",
       "      <td>101699.77</td>\n",
       "      <td>0</td>\n",
       "    </tr>\n",
       "    <tr>\n",
       "      <th>9997</th>\n",
       "      <td>9998</td>\n",
       "      <td>15584532</td>\n",
       "      <td>Liu</td>\n",
       "      <td>709</td>\n",
       "      <td>France</td>\n",
       "      <td>Female</td>\n",
       "      <td>36</td>\n",
       "      <td>7</td>\n",
       "      <td>0.00</td>\n",
       "      <td>1</td>\n",
       "      <td>0</td>\n",
       "      <td>1</td>\n",
       "      <td>42085.58</td>\n",
       "      <td>1</td>\n",
       "    </tr>\n",
       "    <tr>\n",
       "      <th>9998</th>\n",
       "      <td>9999</td>\n",
       "      <td>15682355</td>\n",
       "      <td>Sabbatini</td>\n",
       "      <td>772</td>\n",
       "      <td>Germany</td>\n",
       "      <td>Male</td>\n",
       "      <td>42</td>\n",
       "      <td>3</td>\n",
       "      <td>75075.31</td>\n",
       "      <td>2</td>\n",
       "      <td>1</td>\n",
       "      <td>0</td>\n",
       "      <td>92888.52</td>\n",
       "      <td>1</td>\n",
       "    </tr>\n",
       "    <tr>\n",
       "      <th>9999</th>\n",
       "      <td>10000</td>\n",
       "      <td>15628319</td>\n",
       "      <td>Walker</td>\n",
       "      <td>792</td>\n",
       "      <td>France</td>\n",
       "      <td>Female</td>\n",
       "      <td>28</td>\n",
       "      <td>4</td>\n",
       "      <td>130142.79</td>\n",
       "      <td>1</td>\n",
       "      <td>1</td>\n",
       "      <td>0</td>\n",
       "      <td>38190.78</td>\n",
       "      <td>0</td>\n",
       "    </tr>\n",
       "  </tbody>\n",
       "</table>\n",
       "<p>10000 rows × 14 columns</p>\n",
       "</div>"
      ],
      "text/plain": [
       "      RowNumber  CustomerId    Surname  CreditScore Geography  Gender  Age  \\\n",
       "0             1    15634602   Hargrave          619    France  Female   42   \n",
       "1             2    15647311       Hill          608     Spain  Female   41   \n",
       "2             3    15619304       Onio          502    France  Female   42   \n",
       "3             4    15701354       Boni          699    France  Female   39   \n",
       "4             5    15737888   Mitchell          850     Spain  Female   43   \n",
       "...         ...         ...        ...          ...       ...     ...  ...   \n",
       "9995       9996    15606229   Obijiaku          771    France    Male   39   \n",
       "9996       9997    15569892  Johnstone          516    France    Male   35   \n",
       "9997       9998    15584532        Liu          709    France  Female   36   \n",
       "9998       9999    15682355  Sabbatini          772   Germany    Male   42   \n",
       "9999      10000    15628319     Walker          792    France  Female   28   \n",
       "\n",
       "      Tenure    Balance  NumOfProducts  HasCrCard  IsActiveMember  \\\n",
       "0          2       0.00              1          1               1   \n",
       "1          1   83807.86              1          0               1   \n",
       "2          8  159660.80              3          1               0   \n",
       "3          1       0.00              2          0               0   \n",
       "4          2  125510.82              1          1               1   \n",
       "...      ...        ...            ...        ...             ...   \n",
       "9995       5       0.00              2          1               0   \n",
       "9996      10   57369.61              1          1               1   \n",
       "9997       7       0.00              1          0               1   \n",
       "9998       3   75075.31              2          1               0   \n",
       "9999       4  130142.79              1          1               0   \n",
       "\n",
       "      EstimatedSalary  Exited  \n",
       "0           101348.88       1  \n",
       "1           112542.58       0  \n",
       "2           113931.57       1  \n",
       "3            93826.63       0  \n",
       "4            79084.10       0  \n",
       "...               ...     ...  \n",
       "9995         96270.64       0  \n",
       "9996        101699.77       0  \n",
       "9997         42085.58       1  \n",
       "9998         92888.52       1  \n",
       "9999         38190.78       0  \n",
       "\n",
       "[10000 rows x 14 columns]"
      ]
     },
     "execution_count": 90,
     "metadata": {},
     "output_type": "execute_result"
    }
   ],
   "source": [
    "data  = pd.read_csv('Churn_Modelling.csv')\n",
    "data"
   ]
  },
  {
   "cell_type": "code",
   "execution_count": 91,
   "metadata": {},
   "outputs": [
    {
     "name": "stdout",
     "output_type": "stream",
     "text": [
      "<class 'pandas.core.frame.DataFrame'>\n",
      "RangeIndex: 10000 entries, 0 to 9999\n",
      "Data columns (total 14 columns):\n",
      " #   Column           Non-Null Count  Dtype  \n",
      "---  ------           --------------  -----  \n",
      " 0   RowNumber        10000 non-null  int64  \n",
      " 1   CustomerId       10000 non-null  int64  \n",
      " 2   Surname          10000 non-null  object \n",
      " 3   CreditScore      10000 non-null  int64  \n",
      " 4   Geography        10000 non-null  object \n",
      " 5   Gender           10000 non-null  object \n",
      " 6   Age              10000 non-null  int64  \n",
      " 7   Tenure           10000 non-null  int64  \n",
      " 8   Balance          10000 non-null  float64\n",
      " 9   NumOfProducts    10000 non-null  int64  \n",
      " 10  HasCrCard        10000 non-null  int64  \n",
      " 11  IsActiveMember   10000 non-null  int64  \n",
      " 12  EstimatedSalary  10000 non-null  float64\n",
      " 13  Exited           10000 non-null  int64  \n",
      "dtypes: float64(2), int64(9), object(3)\n",
      "memory usage: 1.1+ MB\n"
     ]
    }
   ],
   "source": [
    "data.info()"
   ]
  },
  {
   "cell_type": "code",
   "execution_count": 92,
   "metadata": {},
   "outputs": [
    {
     "data": {
      "text/plain": [
       "Index(['RowNumber', 'CustomerId', 'Surname', 'CreditScore', 'Geography',\n",
       "       'Gender', 'Age', 'Tenure', 'Balance', 'NumOfProducts', 'HasCrCard',\n",
       "       'IsActiveMember', 'EstimatedSalary', 'Exited'],\n",
       "      dtype='object')"
      ]
     },
     "execution_count": 92,
     "metadata": {},
     "output_type": "execute_result"
    }
   ],
   "source": [
    "data.columns"
   ]
  },
  {
   "cell_type": "code",
   "execution_count": 93,
   "metadata": {},
   "outputs": [],
   "source": [
    "y=data[[\"Exited\"]]\n"
   ]
  },
  {
   "cell_type": "code",
   "execution_count": 94,
   "metadata": {},
   "outputs": [],
   "source": [
    "x=data[['CreditScore',  'Age', 'Tenure', 'Balance', 'NumOfProducts', 'HasCrCard',\n",
    "        'IsActiveMember', 'EstimatedSalary',]]"
   ]
  },
  {
   "cell_type": "code",
   "execution_count": 95,
   "metadata": {},
   "outputs": [],
   "source": [
    "geo=data['Geography']"
   ]
  },
  {
   "cell_type": "code",
   "execution_count": 96,
   "metadata": {},
   "outputs": [],
   "source": [
    "geo=pd.get_dummies(geo, drop_first=True)\n",
    "# geo"
   ]
  },
  {
   "cell_type": "code",
   "execution_count": 97,
   "metadata": {},
   "outputs": [],
   "source": [
    "gender=data['Gender']"
   ]
  },
  {
   "cell_type": "code",
   "execution_count": 98,
   "metadata": {},
   "outputs": [],
   "source": [
    "gender=pd.get_dummies(gender, drop_first=True)\n",
    "# gender"
   ]
  },
  {
   "cell_type": "code",
   "execution_count": 99,
   "metadata": {},
   "outputs": [],
   "source": [
    "x_final=pd.concat([x,gender,geo], axis=1)"
   ]
  },
  {
   "cell_type": "code",
   "execution_count": 100,
   "metadata": {},
   "outputs": [
    {
     "data": {
      "text/html": [
       "<div>\n",
       "<style scoped>\n",
       "    .dataframe tbody tr th:only-of-type {\n",
       "        vertical-align: middle;\n",
       "    }\n",
       "\n",
       "    .dataframe tbody tr th {\n",
       "        vertical-align: top;\n",
       "    }\n",
       "\n",
       "    .dataframe thead th {\n",
       "        text-align: right;\n",
       "    }\n",
       "</style>\n",
       "<table border=\"1\" class=\"dataframe\">\n",
       "  <thead>\n",
       "    <tr style=\"text-align: right;\">\n",
       "      <th></th>\n",
       "      <th>CreditScore</th>\n",
       "      <th>Age</th>\n",
       "      <th>Tenure</th>\n",
       "      <th>Balance</th>\n",
       "      <th>NumOfProducts</th>\n",
       "      <th>HasCrCard</th>\n",
       "      <th>IsActiveMember</th>\n",
       "      <th>EstimatedSalary</th>\n",
       "      <th>Male</th>\n",
       "      <th>Germany</th>\n",
       "      <th>Spain</th>\n",
       "    </tr>\n",
       "  </thead>\n",
       "  <tbody>\n",
       "    <tr>\n",
       "      <th>0</th>\n",
       "      <td>619</td>\n",
       "      <td>42</td>\n",
       "      <td>2</td>\n",
       "      <td>0.00</td>\n",
       "      <td>1</td>\n",
       "      <td>1</td>\n",
       "      <td>1</td>\n",
       "      <td>101348.88</td>\n",
       "      <td>0</td>\n",
       "      <td>0</td>\n",
       "      <td>0</td>\n",
       "    </tr>\n",
       "    <tr>\n",
       "      <th>1</th>\n",
       "      <td>608</td>\n",
       "      <td>41</td>\n",
       "      <td>1</td>\n",
       "      <td>83807.86</td>\n",
       "      <td>1</td>\n",
       "      <td>0</td>\n",
       "      <td>1</td>\n",
       "      <td>112542.58</td>\n",
       "      <td>0</td>\n",
       "      <td>0</td>\n",
       "      <td>1</td>\n",
       "    </tr>\n",
       "    <tr>\n",
       "      <th>2</th>\n",
       "      <td>502</td>\n",
       "      <td>42</td>\n",
       "      <td>8</td>\n",
       "      <td>159660.80</td>\n",
       "      <td>3</td>\n",
       "      <td>1</td>\n",
       "      <td>0</td>\n",
       "      <td>113931.57</td>\n",
       "      <td>0</td>\n",
       "      <td>0</td>\n",
       "      <td>0</td>\n",
       "    </tr>\n",
       "    <tr>\n",
       "      <th>3</th>\n",
       "      <td>699</td>\n",
       "      <td>39</td>\n",
       "      <td>1</td>\n",
       "      <td>0.00</td>\n",
       "      <td>2</td>\n",
       "      <td>0</td>\n",
       "      <td>0</td>\n",
       "      <td>93826.63</td>\n",
       "      <td>0</td>\n",
       "      <td>0</td>\n",
       "      <td>0</td>\n",
       "    </tr>\n",
       "    <tr>\n",
       "      <th>4</th>\n",
       "      <td>850</td>\n",
       "      <td>43</td>\n",
       "      <td>2</td>\n",
       "      <td>125510.82</td>\n",
       "      <td>1</td>\n",
       "      <td>1</td>\n",
       "      <td>1</td>\n",
       "      <td>79084.10</td>\n",
       "      <td>0</td>\n",
       "      <td>0</td>\n",
       "      <td>1</td>\n",
       "    </tr>\n",
       "    <tr>\n",
       "      <th>...</th>\n",
       "      <td>...</td>\n",
       "      <td>...</td>\n",
       "      <td>...</td>\n",
       "      <td>...</td>\n",
       "      <td>...</td>\n",
       "      <td>...</td>\n",
       "      <td>...</td>\n",
       "      <td>...</td>\n",
       "      <td>...</td>\n",
       "      <td>...</td>\n",
       "      <td>...</td>\n",
       "    </tr>\n",
       "    <tr>\n",
       "      <th>9995</th>\n",
       "      <td>771</td>\n",
       "      <td>39</td>\n",
       "      <td>5</td>\n",
       "      <td>0.00</td>\n",
       "      <td>2</td>\n",
       "      <td>1</td>\n",
       "      <td>0</td>\n",
       "      <td>96270.64</td>\n",
       "      <td>1</td>\n",
       "      <td>0</td>\n",
       "      <td>0</td>\n",
       "    </tr>\n",
       "    <tr>\n",
       "      <th>9996</th>\n",
       "      <td>516</td>\n",
       "      <td>35</td>\n",
       "      <td>10</td>\n",
       "      <td>57369.61</td>\n",
       "      <td>1</td>\n",
       "      <td>1</td>\n",
       "      <td>1</td>\n",
       "      <td>101699.77</td>\n",
       "      <td>1</td>\n",
       "      <td>0</td>\n",
       "      <td>0</td>\n",
       "    </tr>\n",
       "    <tr>\n",
       "      <th>9997</th>\n",
       "      <td>709</td>\n",
       "      <td>36</td>\n",
       "      <td>7</td>\n",
       "      <td>0.00</td>\n",
       "      <td>1</td>\n",
       "      <td>0</td>\n",
       "      <td>1</td>\n",
       "      <td>42085.58</td>\n",
       "      <td>0</td>\n",
       "      <td>0</td>\n",
       "      <td>0</td>\n",
       "    </tr>\n",
       "    <tr>\n",
       "      <th>9998</th>\n",
       "      <td>772</td>\n",
       "      <td>42</td>\n",
       "      <td>3</td>\n",
       "      <td>75075.31</td>\n",
       "      <td>2</td>\n",
       "      <td>1</td>\n",
       "      <td>0</td>\n",
       "      <td>92888.52</td>\n",
       "      <td>1</td>\n",
       "      <td>1</td>\n",
       "      <td>0</td>\n",
       "    </tr>\n",
       "    <tr>\n",
       "      <th>9999</th>\n",
       "      <td>792</td>\n",
       "      <td>28</td>\n",
       "      <td>4</td>\n",
       "      <td>130142.79</td>\n",
       "      <td>1</td>\n",
       "      <td>1</td>\n",
       "      <td>0</td>\n",
       "      <td>38190.78</td>\n",
       "      <td>0</td>\n",
       "      <td>0</td>\n",
       "      <td>0</td>\n",
       "    </tr>\n",
       "  </tbody>\n",
       "</table>\n",
       "<p>10000 rows × 11 columns</p>\n",
       "</div>"
      ],
      "text/plain": [
       "      CreditScore  Age  Tenure    Balance  NumOfProducts  HasCrCard  \\\n",
       "0             619   42       2       0.00              1          1   \n",
       "1             608   41       1   83807.86              1          0   \n",
       "2             502   42       8  159660.80              3          1   \n",
       "3             699   39       1       0.00              2          0   \n",
       "4             850   43       2  125510.82              1          1   \n",
       "...           ...  ...     ...        ...            ...        ...   \n",
       "9995          771   39       5       0.00              2          1   \n",
       "9996          516   35      10   57369.61              1          1   \n",
       "9997          709   36       7       0.00              1          0   \n",
       "9998          772   42       3   75075.31              2          1   \n",
       "9999          792   28       4  130142.79              1          1   \n",
       "\n",
       "      IsActiveMember  EstimatedSalary  Male  Germany  Spain  \n",
       "0                  1        101348.88     0        0      0  \n",
       "1                  1        112542.58     0        0      1  \n",
       "2                  0        113931.57     0        0      0  \n",
       "3                  0         93826.63     0        0      0  \n",
       "4                  1         79084.10     0        0      1  \n",
       "...              ...              ...   ...      ...    ...  \n",
       "9995               0         96270.64     1        0      0  \n",
       "9996               1        101699.77     1        0      0  \n",
       "9997               1         42085.58     0        0      0  \n",
       "9998               0         92888.52     1        1      0  \n",
       "9999               0         38190.78     0        0      0  \n",
       "\n",
       "[10000 rows x 11 columns]"
      ]
     },
     "execution_count": 100,
     "metadata": {},
     "output_type": "execute_result"
    }
   ],
   "source": [
    "x_final"
   ]
  },
  {
   "cell_type": "code",
   "execution_count": 101,
   "metadata": {},
   "outputs": [],
   "source": [
    "from sklearn.model_selection import train_test_split"
   ]
  },
  {
   "cell_type": "code",
   "execution_count": 102,
   "metadata": {},
   "outputs": [],
   "source": [
    "x_train,x_test,y_train,y_test= train_test_split(x_final,y,test_size=0.2 , random_state=42)"
   ]
  },
  {
   "cell_type": "code",
   "execution_count": 103,
   "metadata": {},
   "outputs": [
    {
     "data": {
      "text/plain": [
       "(2000, 1)"
      ]
     },
     "execution_count": 103,
     "metadata": {},
     "output_type": "execute_result"
    }
   ],
   "source": [
    "y_test.shape"
   ]
  },
  {
   "cell_type": "code",
   "execution_count": 104,
   "metadata": {},
   "outputs": [],
   "source": [
    "from keras.models import Sequential"
   ]
  },
  {
   "cell_type": "code",
   "execution_count": 105,
   "metadata": {},
   "outputs": [],
   "source": [
    "model= Sequential()"
   ]
  },
  {
   "cell_type": "code",
   "execution_count": 106,
   "metadata": {},
   "outputs": [
    {
     "data": {
      "text/plain": [
       "{'name': 'sequential_2', 'layers': []}"
      ]
     },
     "execution_count": 106,
     "metadata": {},
     "output_type": "execute_result"
    }
   ],
   "source": [
    "model.get_config()"
   ]
  },
  {
   "cell_type": "code",
   "execution_count": 107,
   "metadata": {},
   "outputs": [],
   "source": [
    "from keras.layers import Dense"
   ]
  },
  {
   "cell_type": "code",
   "execution_count": 108,
   "metadata": {},
   "outputs": [],
   "source": [
    "model.add(Dense(units=8, input_dim=11,activation='relu'))#,  bias_initializer='zeros', kernel_initializer='zeros'))"
   ]
  },
  {
   "cell_type": "code",
   "execution_count": 109,
   "metadata": {},
   "outputs": [],
   "source": [
    "model.add(Dense(units=6, activation='relu',))#  bias_initializer='zeros', kernel_initializer='zeros'))"
   ]
  },
  {
   "cell_type": "code",
   "execution_count": 110,
   "metadata": {},
   "outputs": [],
   "source": [
    "model.add(Dense(units=1,activation='sigmoid' , bias_initializer='zeros', kernel_initializer='zeros'))"
   ]
  },
  {
   "cell_type": "code",
   "execution_count": 111,
   "metadata": {},
   "outputs": [
    {
     "name": "stdout",
     "output_type": "stream",
     "text": [
      "Model: \"sequential_2\"\n",
      "_________________________________________________________________\n",
      "Layer (type)                 Output Shape              Param #   \n",
      "=================================================================\n",
      "dense_7 (Dense)              (None, 8)                 96        \n",
      "_________________________________________________________________\n",
      "dense_8 (Dense)              (None, 6)                 54        \n",
      "_________________________________________________________________\n",
      "dense_9 (Dense)              (None, 1)                 7         \n",
      "=================================================================\n",
      "Total params: 157\n",
      "Trainable params: 157\n",
      "Non-trainable params: 0\n",
      "_________________________________________________________________\n"
     ]
    }
   ],
   "source": [
    "model.summary()"
   ]
  },
  {
   "cell_type": "code",
   "execution_count": 114,
   "metadata": {},
   "outputs": [
    {
     "data": {
      "text/plain": [
       "[array([[ 0.08818156, -0.46625382,  0.2585103 , -0.09280425,  0.36445892,\n",
       "          0.29790044],\n",
       "        [ 0.20365822, -0.59475124,  0.10910976,  0.02882951, -0.46881637,\n",
       "          0.36641955],\n",
       "        [ 0.62124693, -0.19954175,  0.47859263,  0.17821616,  0.2759086 ,\n",
       "         -0.2688994 ],\n",
       "        [-0.23015183, -0.6066614 ,  0.13631934,  0.10886127,  0.33451796,\n",
       "         -0.11430669],\n",
       "        [-0.34943408, -0.06131262, -0.44063085,  0.42167115,  0.3372087 ,\n",
       "         -0.50970024],\n",
       "        [-0.28858536, -0.5833885 , -0.12453234,  0.49927044,  0.58060706,\n",
       "          0.29617482],\n",
       "        [-0.62702143, -0.49025232, -0.12047595, -0.43515676,  0.55812085,\n",
       "          0.6250895 ],\n",
       "        [ 0.5086682 , -0.43529877,  0.24686992,  0.14339405,  0.61430097,\n",
       "         -0.23536512]], dtype=float32),\n",
       " array([0., 0., 0., 0., 0., 0.], dtype=float32)]"
      ]
     },
     "execution_count": 114,
     "metadata": {},
     "output_type": "execute_result"
    }
   ],
   "source": [
    "model.get_layer(\"dense_8\").get_weights()"
   ]
  },
  {
   "cell_type": "code",
   "execution_count": 70,
   "metadata": {},
   "outputs": [],
   "source": [
    "from keras.optimizers import Adam\n",
    "model.compile( loss='binary_crossentropy',optimizer=Adam(learning_rate=0.001),metrics=['accuracy'])"
   ]
  },
  {
   "cell_type": "code",
   "execution_count": 71,
   "metadata": {},
   "outputs": [
    {
     "name": "stdout",
     "output_type": "stream",
     "text": [
      "Epoch 1/50\n",
      "250/250 [==============================] - 3s 3ms/step - loss: 0.6611 - accuracy: 0.7957\n",
      "Epoch 2/50\n",
      "250/250 [==============================] - 1s 3ms/step - loss: 0.5794 - accuracy: 0.7813\n",
      "Epoch 3/50\n",
      "250/250 [==============================] - 1s 3ms/step - loss: 0.5341 - accuracy: 0.7921\n",
      "Epoch 4/50\n",
      "250/250 [==============================] - 1s 3ms/step - loss: 0.5237 - accuracy: 0.7874\n",
      "Epoch 5/50\n",
      "250/250 [==============================] - 1s 3ms/step - loss: 0.5122 - accuracy: 0.7930\n",
      "Epoch 6/50\n",
      "250/250 [==============================] - 1s 3ms/step - loss: 0.5083 - accuracy: 0.7948\n",
      "Epoch 7/50\n",
      "250/250 [==============================] - 1s 3ms/step - loss: 0.4985 - accuracy: 0.8019\n",
      "Epoch 8/50\n",
      "250/250 [==============================] - 1s 3ms/step - loss: 0.4982 - accuracy: 0.8020\n",
      "Epoch 9/50\n",
      "250/250 [==============================] - 1s 3ms/step - loss: 0.5043 - accuracy: 0.7973\n",
      "Epoch 10/50\n",
      "250/250 [==============================] - ETA: 0s - loss: 0.5165 - accuracy: 0.78 - 1s 3ms/step - loss: 0.5161 - accuracy: 0.7885\n",
      "Epoch 11/50\n",
      "250/250 [==============================] - 1s 3ms/step - loss: 0.5118 - accuracy: 0.7918\n",
      "Epoch 12/50\n",
      "250/250 [==============================] - 1s 3ms/step - loss: 0.5151 - accuracy: 0.7893\n",
      "Epoch 13/50\n",
      "250/250 [==============================] - 1s 3ms/step - loss: 0.5125 - accuracy: 0.7912\n",
      "Epoch 14/50\n",
      "250/250 [==============================] - 1s 3ms/step - loss: 0.5053 - accuracy: 0.7965\n",
      "Epoch 15/50\n",
      "250/250 [==============================] - 1s 3ms/step - loss: 0.5092 - accuracy: 0.7936\n",
      "Epoch 16/50\n",
      "250/250 [==============================] - 1s 3ms/step - loss: 0.5037 - accuracy: 0.7977\n",
      "Epoch 17/50\n",
      "250/250 [==============================] - 1s 3ms/step - loss: 0.5021 - accuracy: 0.7989\n",
      "Epoch 18/50\n",
      "250/250 [==============================] - 1s 3ms/step - loss: 0.5129 - accuracy: 0.7908\n",
      "Epoch 19/50\n",
      "250/250 [==============================] - 1s 3ms/step - loss: 0.5075 - accuracy: 0.7949\n",
      "Epoch 20/50\n",
      "250/250 [==============================] - 1s 3ms/step - loss: 0.5121 - accuracy: 0.7915\n",
      "Epoch 21/50\n",
      "250/250 [==============================] - 1s 3ms/step - loss: 0.5044 - accuracy: 0.7973\n",
      "Epoch 22/50\n",
      "250/250 [==============================] - 1s 5ms/step - loss: 0.5074 - accuracy: 0.7950\n",
      "Epoch 23/50\n",
      "250/250 [==============================] - 1s 4ms/step - loss: 0.5104 - accuracy: 0.7927\n",
      "Epoch 24/50\n",
      "250/250 [==============================] - 1s 3ms/step - loss: 0.5084 - accuracy: 0.7942\n",
      "Epoch 25/50\n",
      "250/250 [==============================] - 1s 3ms/step - loss: 0.5076 - accuracy: 0.7948\n",
      "Epoch 26/50\n",
      "250/250 [==============================] - 1s 3ms/step - loss: 0.4998 - accuracy: 0.8006\n",
      "Epoch 27/50\n",
      "250/250 [==============================] - 1s 3ms/step - loss: 0.5096 - accuracy: 0.7933\n",
      "Epoch 28/50\n",
      "250/250 [==============================] - 1s 3ms/step - loss: 0.4980 - accuracy: 0.8020: 0s - los\n",
      "Epoch 29/50\n",
      "250/250 [==============================] - 1s 3ms/step - loss: 0.5137 - accuracy: 0.7903\n",
      "Epoch 30/50\n",
      "250/250 [==============================] - 1s 3ms/step - loss: 0.5180 - accuracy: 0.7871\n",
      "Epoch 31/50\n",
      "250/250 [==============================] - 1s 3ms/step - loss: 0.5117 - accuracy: 0.7918\n",
      "Epoch 32/50\n",
      "250/250 [==============================] - 1s 3ms/step - loss: 0.5004 - accuracy: 0.8002\n",
      "Epoch 33/50\n",
      "250/250 [==============================] - 1s 3ms/step - loss: 0.5140 - accuracy: 0.7901\n",
      "Epoch 34/50\n",
      "250/250 [==============================] - 1s 3ms/step - loss: 0.5189 - accuracy: 0.7865\n",
      "Epoch 35/50\n",
      "250/250 [==============================] - 1s 3ms/step - loss: 0.5196 - accuracy: 0.7859\n",
      "Epoch 36/50\n",
      "250/250 [==============================] - 1s 3ms/step - loss: 0.5078 - accuracy: 0.7947\n",
      "Epoch 37/50\n",
      "250/250 [==============================] - 1s 3ms/step - loss: 0.5058 - accuracy: 0.7962\n",
      "Epoch 38/50\n",
      "250/250 [==============================] - 1s 3ms/step - loss: 0.4911 - accuracy: 0.8070\n",
      "Epoch 39/50\n",
      "250/250 [==============================] - 1s 3ms/step - loss: 0.4947 - accuracy: 0.8045\n",
      "Epoch 40/50\n",
      "250/250 [==============================] - 1s 3ms/step - loss: 0.5045 - accuracy: 0.7972\n",
      "Epoch 41/50\n",
      "250/250 [==============================] - 1s 3ms/step - loss: 0.5152 - accuracy: 0.7892\n",
      "Epoch 42/50\n",
      "250/250 [==============================] - 1s 3ms/step - loss: 0.4981 - accuracy: 0.8018\n",
      "Epoch 43/50\n",
      "250/250 [==============================] - 1s 4ms/step - loss: 0.5062 - accuracy: 0.7959\n",
      "Epoch 44/50\n",
      "250/250 [==============================] - 1s 4ms/step - loss: 0.5057 - accuracy: 0.7963\n",
      "Epoch 45/50\n",
      "250/250 [==============================] - 1s 3ms/step - loss: 0.5073 - accuracy: 0.7951\n",
      "Epoch 46/50\n",
      "250/250 [==============================] - 1s 3ms/step - loss: 0.5028 - accuracy: 0.7984\n",
      "Epoch 47/50\n",
      "250/250 [==============================] - 1s 3ms/step - loss: 0.5052 - accuracy: 0.7966\n",
      "Epoch 48/50\n",
      "250/250 [==============================] - 1s 3ms/step - loss: 0.5061 - accuracy: 0.7960\n",
      "Epoch 49/50\n",
      "250/250 [==============================] - 1s 3ms/step - loss: 0.5009 - accuracy: 0.7998\n",
      "Epoch 50/50\n",
      "250/250 [==============================] - 1s 3ms/step - loss: 0.5134 - accuracy: 0.7906\n"
     ]
    },
    {
     "data": {
      "text/plain": [
       "<keras.callbacks.History at 0x1e579155370>"
      ]
     },
     "execution_count": 71,
     "metadata": {},
     "output_type": "execute_result"
    }
   ],
   "source": [
    "model.fit(x_train,y_train,epochs=50)"
   ]
  },
  {
   "cell_type": "code",
   "execution_count": 73,
   "metadata": {
    "scrolled": true
   },
   "outputs": [
    {
     "data": {
      "text/plain": [
       "[array([[-0.3328631 ,  0.0472412 , -0.24256445, -0.5195298 ,  0.28170377,\n",
       "         -0.37661225, -0.17659056, -0.21358812],\n",
       "        [ 0.08547783,  0.6710327 , -0.58125854,  0.5638477 ,  0.11330295,\n",
       "         -0.869808  , -0.2675429 , -1.1669818 ],\n",
       "        [ 0.54555136,  0.09404645,  0.58245105, -0.5390943 ,  0.22454098,\n",
       "         -0.25848612, -0.12519266, -0.28044128],\n",
       "        [-0.3182919 ,  0.31059283, -0.37370318, -0.0185655 ,  0.0390766 ,\n",
       "          0.1423719 ,  0.06197482,  0.1112831 ],\n",
       "        [ 0.11378664,  0.3094504 ,  0.98157424, -0.6599753 ,  0.53196317,\n",
       "          0.7735515 , -0.22035335, -0.2519028 ],\n",
       "        [-0.11964598, -0.40658596,  0.03438971,  0.23147047,  0.7588433 ,\n",
       "          0.41517246,  0.29512647,  0.33624324],\n",
       "        [ 0.54187804, -2.6754932 ,  2.0318384 , -2.4029112 ,  0.91148806,\n",
       "          3.1545806 , -1.1322788 ,  2.5660572 ],\n",
       "        [-0.15425   ,  0.16802843,  0.13420376,  0.36978245, -0.5794474 ,\n",
       "          0.1589907 , -0.14562412,  0.36039242],\n",
       "        [-0.4192205 , -1.4765174 ,  1.1014606 , -1.5941149 ,  1.2894056 ,\n",
       "          1.8259934 , -0.57144636,  2.1495018 ],\n",
       "        [ 0.31138873,  2.2742376 ,  1.397879  ,  2.088645  , -1.083213  ,\n",
       "         -2.154897  ,  0.41495472, -2.198029  ],\n",
       "        [-0.35393798, -1.2250897 , -0.0594415 , -0.13148893,  0.5479558 ,\n",
       "          0.56574094,  0.2713768 ,  0.3904449 ]], dtype=float32),\n",
       " array([ 0.        , -0.2887726 , -0.15812953, -0.03008719,  0.56984824,\n",
       "         0.04646989, -0.18867739,  0.13917206], dtype=float32),\n",
       " array([[ 0.11420101,  0.39159942,  0.16740501,  0.13562131, -0.4926319 ,\n",
       "          0.03585601],\n",
       "        [ 0.6257029 ,  0.09280125, -0.41372976,  0.55660754,  0.14863215,\n",
       "         -0.0869998 ],\n",
       "        [-0.39929396,  0.20986038, -0.08030497,  0.16173509, -0.19678602,\n",
       "         -0.10860632],\n",
       "        [ 0.3868758 , -0.46872061,  0.5570071 ,  0.65270257, -0.3448516 ,\n",
       "          0.31456858],\n",
       "        [-0.5848753 , -0.4370993 , -0.40277684,  0.1235726 ,  0.56184363,\n",
       "          0.5389841 ],\n",
       "        [-0.40158027,  0.28243402, -0.2773402 , -0.30253607, -0.11133563,\n",
       "         -0.3897792 ],\n",
       "        [-0.15711784, -0.48535687, -0.02573496,  0.50256056,  0.26595384,\n",
       "          0.65313065],\n",
       "        [ 0.0822843 ,  0.47164848, -0.06352702, -0.3812728 ,  0.20712188,\n",
       "          0.3280707 ]], dtype=float32),\n",
       " array([-0.18511753,  0.18419468,  0.17474328, -0.18996234,  0.31231388,\n",
       "         0.14276475], dtype=float32),\n",
       " array([[ 0.4274485 ],\n",
       "        [-0.42611176],\n",
       "        [ 0.5453092 ],\n",
       "        [ 0.15510894],\n",
       "        [-0.08732098],\n",
       "        [-0.26658532]], dtype=float32),\n",
       " array([-0.1806061], dtype=float32),\n",
       " array([[-0.66654664]], dtype=float32),\n",
       " array([-0.68893594], dtype=float32)]"
      ]
     },
     "execution_count": 73,
     "metadata": {},
     "output_type": "execute_result"
    }
   ],
   "source": [
    "model.get_weights()"
   ]
  },
  {
   "cell_type": "code",
   "execution_count": 74,
   "metadata": {},
   "outputs": [],
   "source": [
    "l=pd.DataFrame(model.history.history)"
   ]
  },
  {
   "cell_type": "code",
   "execution_count": 75,
   "metadata": {},
   "outputs": [],
   "source": [
    "a= model.history.history['accuracy']"
   ]
  },
  {
   "cell_type": "code",
   "execution_count": 76,
   "metadata": {},
   "outputs": [],
   "source": [
    "a1=pd.DataFrame(a)"
   ]
  },
  {
   "cell_type": "code",
   "execution_count": 77,
   "metadata": {},
   "outputs": [
    {
     "data": {
      "text/plain": [
       "pandas.core.frame.DataFrame"
      ]
     },
     "execution_count": 77,
     "metadata": {},
     "output_type": "execute_result"
    }
   ],
   "source": [
    "type(a1)"
   ]
  },
  {
   "cell_type": "code",
   "execution_count": 78,
   "metadata": {},
   "outputs": [
    {
     "data": {
      "text/plain": [
       "<matplotlib.axes._subplots.AxesSubplot at 0x1e57945a9d0>"
      ]
     },
     "execution_count": 78,
     "metadata": {},
     "output_type": "execute_result"
    },
    {
     "data": {
      "image/png": "[encoded data removed]",
      "text/plain": [
       "<Figure size 432x288 with 1 Axes>"
      ]
     },
     "metadata": {
      "needs_background": "light"
     },
     "output_type": "display_data"
    }
   ],
   "source": [
    "a1.plot()"
   ]
  },
  {
   "cell_type": "code",
   "execution_count": 79,
   "metadata": {},
   "outputs": [
    {
     "data": {
      "text/plain": [
       "<matplotlib.axes._subplots.AxesSubplot at 0x1e5794be310>"
      ]
     },
     "execution_count": 79,
     "metadata": {},
     "output_type": "execute_result"
    },
    {
     "data": {
      "image/png": "[encoded data removed]",
      "text/plain": [
       "<Figure size 432x288 with 1 Axes>"
      ]
     },
     "metadata": {
      "needs_background": "light"
     },
     "output_type": "display_data"
    }
   ],
   "source": [
    "l.plot()"
   ]
  },
  {
   "cell_type": "code",
   "execution_count": 83,
   "metadata": {},
   "outputs": [
    {
     "data": {
      "text/plain": [
       "array([5.5900000e+02, 2.4000000e+01, 3.0000000e+00, 1.1473992e+05,\n",
       "       1.0000000e+00, 1.0000000e+00, 0.0000000e+00, 8.5891020e+04,\n",
       "       1.0000000e+00, 0.0000000e+00, 1.0000000e+00])"
      ]
     },
     "execution_count": 83,
     "metadata": {},
     "output_type": "execute_result"
    }
   ],
   "source": [
    "x_train.iloc[2].values"
   ]
  },
  {
   "cell_type": "code",
   "execution_count": 82,
   "metadata": {},
   "outputs": [
    {
     "data": {
      "text/plain": [
       "array([[0.20497552]], dtype=float32)"
      ]
     },
     "execution_count": 82,
     "metadata": {},
     "output_type": "execute_result"
    }
   ],
   "source": [
    "model.predict([[6.9000000e+02, 2.9000000e+01, 5.0000000e+00, 0.0000000e+00,\n",
    "       2.0000000e+00, 1.0000000e+00, 0.0000000e+00, 1.0857797e+05,\n",
    "       1.0000000e+00, 0.0000000e+00, 0.0000000e+00]])"
   ]
  },
  {
   "cell_type": "code",
   "execution_count": 85,
   "metadata": {},
   "outputs": [
    {
     "data": {
      "text/plain": [
       "array([6.8600000e+02, 3.2000000e+01, 6.0000000e+00, 0.0000000e+00,\n",
       "       2.0000000e+00, 1.0000000e+00, 1.0000000e+00, 1.7909326e+05,\n",
       "       1.0000000e+00, 0.0000000e+00, 0.0000000e+00])"
      ]
     },
     "execution_count": 85,
     "metadata": {},
     "output_type": "execute_result"
    }
   ],
   "source": [
    "x_train.iloc[0].values"
   ]
  },
  {
   "cell_type": "code",
   "execution_count": 88,
   "metadata": {},
   "outputs": [
    {
     "data": {
      "text/plain": [
       "array([[0.20497552],\n",
       "       [0.20497552],\n",
       "       [0.20497552],\n",
       "       ...,\n",
       "       [0.20497552],\n",
       "       [0.20497552],\n",
       "       [0.20497552]], dtype=float32)"
      ]
     },
     "execution_count": 88,
     "metadata": {},
     "output_type": "execute_result"
    }
   ],
   "source": [
    "model.predict(x_test)"
   ]
  },
  {
   "cell_type": "code",
   "execution_count": null,
   "metadata": {},
   "outputs": [],
   "source": []
  },
  {
   "cell_type": "code",
   "execution_count": null,
   "metadata": {},
   "outputs": [],
   "source": []
  }
 ],
 "metadata": {
  "kernelspec": {
   "display_name": "Python 3",
   "language": "python",
   "name": "python3"
  },
  "language_info": {
   "codemirror_mode": {
    "name": "ipython",
    "version": 3
   },
   "file_extension": ".py",
   "mimetype": "text/x-python",
   "name": "python",
   "nbconvert_exporter": "python",
   "pygments_lexer": "ipython3",
   "version": "3.8.3"
  }
 },
 "nbformat": 4,
 "nbformat_minor": 4
}
